{
 "cells": [
  {
   "cell_type": "markdown",
   "id": "db9b4adc-6dc0-4828-b0f8-d0126eddd969",
   "metadata": {},
   "source": [
    "#### Q1: What are the Probability Mass Function (PMF) and Probability Density Function (PDF)? Explain with an example.\n",
    "\n",
    "#### Q2: What is Cumulative Density Function (CDF)? Explain with an example. Why CDF is used?\n",
    "\n",
    "#### Q3: What are some examples of situations where the normal distribution might be used as a model? Explain how the parameters of the normal distribution relate to the shape of the distribution.\n",
    "\n",
    "#### Q4: Explain the importance of Normal Distribution. Give a few real-life examples of Normal Distribution.\n",
    "\n",
    "#### Q5: What is Bernaulli Distribution? Give an Example. What is the difference between Bernoulli Distribution and Binomial Distribution?\n",
    "\n",
    "#### Q6. Consider a dataset with a mean of 50 and a standard deviation of 10. If we assume that the dataset is normally distributed, what is the probability that a randomly selected observation will be greater than 60? Use the appropriate formula and show your calculations.\n",
    "\n",
    "#### Q7: Explain uniform Distribution with an example.\n",
    "\n",
    "####  Q8: What is the z score? State the importance of the z score.\n",
    "\n",
    "####  Q9: What is Central Limit Theorem? State the significance of the Central Limit Theorem.\n",
    "\n",
    "#### Q10: State the assumptions of the Central Limit Theorem."
   ]
  },
  {
   "cell_type": "markdown",
   "id": "274e7222-ff02-4016-83b9-23b3d0618f0f",
   "metadata": {},
   "source": [
    "# Answers"
   ]
  },
  {
   "cell_type": "markdown",
   "id": "68a5bfd5-8003-4f30-affb-0216a24aefb6",
   "metadata": {},
   "source": [
    "### Q1: What are the Probability Mass Function (PMF) and Probability Density Function (PDF)? Explain with an example."
   ]
  },
  {
   "cell_type": "markdown",
   "id": "44939ee3-0f60-4e72-ae3c-e46e0ec97e07",
   "metadata": {},
   "source": [
    "#### Probability Mass Function (PMF):\n",
    "The PMF is used for discrete random variables, which are variables that can only take on distinct and separate values with certain probabilities. The PMF gives the probability that the random variable is exactly equal to a specific value.\n",
    "\n",
    "PMF of a discrete random variable X is defined as:\n",
    "\n",
    "PMF(x) = P(X = x)\n",
    "\n",
    "PMF(x) is the probability mass function evaluated at a specific value \"x.\"\n",
    "P(X = x) is the probability that the random variable X takes on the value \"x.\"\n",
    "\n",
    "Properties:\n",
    "\n",
    "1. For any value of \"x,\" 0 ≤ PMF(x) ≤ 1, meaning the probabilities are non-negative and not greater than 1.\n",
    "2. The sum of all PMF values over all possible values of \"x\" is equal to 1.\n",
    "\n",
    "Example of PMF:\n",
    "\n",
    "Consider rolling a fair six-sided die. The random variable X represents the outcome of a single roll. The PMF of X would be:\n",
    "\n",
    "PMF(1) = 1/6\n",
    "PMF(2) = 1/6\n",
    "PMF(3) = 1/6\n",
    "PMF(4) = 1/6\n",
    "PMF(5) = 1/6\n",
    "PMF(6) = 1/6\n",
    "\n",
    "Since each outcome has an equal probability of 1/6, the PMF for all values of the random variable X is 1/6."
   ]
  },
  {
   "cell_type": "markdown",
   "id": "71eebb6e-a27e-4759-8980-9f56e350ee18",
   "metadata": {},
   "source": [
    "#### Probability Density Function (PDF):\n",
    "\n",
    "The PDF is used for continuous random variables, which are variables that can take on any value within a range, often represented by an interval. The PDF gives the probability that the random variable falls within a specific range of values.\n",
    "Mathematically, the PDF of a continuous random variable X is denoted as f(x) and is defined as follows:\n",
    "\n",
    "Properties:\n",
    "\n",
    "1. For any value of \"x,\" f(x) ≥ 0, meaning the probability density is non-negative.\n",
    "\n",
    "2. The integral of the PDF over the entire range of possible values equals 1:\n",
    "∫[range] f(x) dx = 1\n",
    "\n",
    "Example of PDF:\n",
    "\n",
    "Consider the height of adult males in a population, which is a continuous random variable. The PDF for height might follow a normal distribution. In this case, the PDF would describe the likelihood of an individual having a specific height, say between 170 cm and 180 cm."
   ]
  },
  {
   "cell_type": "markdown",
   "id": "1294771a-8345-4b47-855f-f6e99d615e09",
   "metadata": {},
   "source": [
    "### Q2: What is Cumulative Density Function (CDF)? Explain with an example. Why CDF is used?"
   ]
  },
  {
   "cell_type": "markdown",
   "id": "d51e7848-952a-45cb-a7bb-c6eecd49aa32",
   "metadata": {},
   "source": [
    "It provides a way to understand the probability distribution of a random variable and is used to determine the probability that a random variable takes on a value less than or equal to a specific point.\n",
    "\n",
    "For a given random variable X, the CDF is denoted by F(x) and is defined as follows:\n",
    "\n",
    "CDF(x) = P(X ≤ x)\n",
    "\n",
    "where:\n",
    "\n",
    "CDF(x) is the cumulative distribution function evaluated at a specific value \"x.\"\n",
    "P(X ≤ x) is the probability that the random variable X takes on a value less than or equal to \"x.\"\n",
    "\n",
    "Example of CDF:\n",
    "\n",
    "Consider the height of adult males in a population, which is a continuous random variable. The PDF for height might follow a normal distribution. In this case, the PDF would describe the likelihood of an individual having a specific height, say between 170 cm and 180 cm."
   ]
  },
  {
   "cell_type": "markdown",
   "id": "c31b46e2-fd1c-4f7a-b41f-8279ffda9576",
   "metadata": {},
   "source": [
    "### Q3: What are some examples of situations where the normal distribution might be used as a model? Explain how the parameters of the normal distribution relate to the shape of the distribution."
   ]
  },
  {
   "cell_type": "markdown",
   "id": "866c6dbc-f073-46be-81eb-23ba5a3ff626",
   "metadata": {},
   "source": [
    "#### Normal distribution: \n",
    "It is used as a model for many real-world situations where data tends to cluster around a central value and exhibits a symmetric, bell-shaped pattern. Also known as the Gaussian distribution.\n",
    "\n",
    "Parameters:\n",
    "\n",
    "The normal distribution is fully characterized by two parameters: the mean (μ) and the standard deviation (σ). The mean represents the central location or the peak of the distribution, and the standard deviation controls the spread or dispersion of the data around the mean.\n",
    "\n",
    "Mean (μ): \n",
    "The mean determines the central location of the normal distribution. It corresponds to the value where the distribution is symmetrically centered. If the mean shifts to the right, the entire distribution will shift to the right, and vice versa. The mean can be any real number.\n",
    "\n",
    "Standard Deviation (σ): \n",
    "The standard deviation controls the spread or dispersion of the data points around the mean. A smaller standard deviation results in a narrower and taller distribution, while a larger standard deviation leads to a wider and flatter distribution. The standard deviation must be a positive value, and it measures the amount of variability or uncertainty in the data.\n",
    "\n",
    "Example:\n",
    "\n",
    "1. IQ Scores: \n",
    "IQ (Intelligence Quotient) scores are often assumed to follow a normal distribution in the general population. The distribution will be centered around the average IQ score, with fewer individuals at the extreme ends of the distribution.\n",
    "\n",
    "2. Test Scores: \n",
    "In educational testing, scores on standardized tests, such as SAT or GRE, often follow a normal distribution in the population."
   ]
  },
  {
   "cell_type": "markdown",
   "id": "099b4d9b-229a-4b03-b577-3ef07f8fd072",
   "metadata": {},
   "source": [
    "### Q4: Explain the importance of Normal Distribution. Give a few real-life examples of Normal Distribution."
   ]
  },
  {
   "cell_type": "markdown",
   "id": "a9fa0c47-5a3b-401e-99a2-b4beb9372c0b",
   "metadata": {},
   "source": [
    "As with any probability distribution, the normal distribution describes how the values of a variable are distributed. It is the most important probability distribution in statistics because it accurately describes the distribution of values for many natural phenomena.\n",
    "\n",
    "#### Examples:\n",
    "\n",
    "1. Heights of Individuals: In a large population, the distribution of adult heights tends to follow a normal distribution, with the majority of individuals falling near the average height and fewer individuals at the extreme ends.\n",
    "\n",
    "2. Exam Scores: In educational testing, scores on standardized exams, such as SAT or GRE, often approximate a normal distribution, with most test-takers clustering around the average score."
   ]
  },
  {
   "cell_type": "markdown",
   "id": "fc342a31-13a1-4d58-8b6c-b52046318ec8",
   "metadata": {},
   "source": [
    "### Q5: What is Bernaulli Distribution? Give an Example. What is the difference between Bernoulli Distribution and Binomial Distribution?"
   ]
  },
  {
   "cell_type": "markdown",
   "id": "45cdaf99-b5c2-4709-b843-785db5816499",
   "metadata": {},
   "source": [
    "#### Bernoulli distribution: \n",
    "\n",
    "The Bernoulli distribution is a simple and fundamental probability distribution that represents a random experiment with only two possible outcomes: success (usually denoted as \"1\") or failure (usually denoted as \"0\").\n",
    "\n",
    "The Bernoulli distribution is characterized by a single parameter, denoted as \"p,\" which represents the probability of success in a single trial. The probability of failure in a single trial is then (1 - p).\n",
    "\n",
    "The probability mass function (PMF) of the Bernoulli distribution is given by:\n",
    "\n",
    "P(X = x) = p^x * (1 - p)^(1 - x) for x = 0 or 1\n",
    "\n",
    "1. X is the random variable representing the outcome of the trial (0 for failure, 1 for success).\n",
    "2. p is the probability of success in a single trial.\n",
    "\n",
    "Example:\n",
    "A common example of the Bernoulli distribution is modeling the outcome of a single coin flip. Let's consider a fair coin (where the probability of getting heads, denoted as \"H,\" is 0.5) as our random experiment. The random variable X represents the outcome of a single coin flip, where X = 1 for heads (success) and X = 0 for tails (failure). In this case, the Bernoulli distribution would be:\n",
    "\n",
    "P(X = 1) = 0.5 (probability of getting heads)\n",
    "\n",
    "P(X = 0) = 0.5 (probability of getting tails)"
   ]
  },
  {
   "cell_type": "markdown",
   "id": "78c6b2a6-fc93-4c6f-ac5e-2fd3d16c4d99",
   "metadata": {},
   "source": [
    "Diffrence:\n",
    "1. Nature of Random Variable: \n",
    "\n",
    "Bernoulli Distribution: The Bernoulli distribution models a single trial with two possible outcomes (success or failure). It deals with a discrete random variable taking only two values: 0 and 1.\n",
    "\n",
    "Binomial Distribution: The binomial distribution deals with multiple independent Bernoulli trials. It represents the number of successes in a fixed number of identical, independent trials, each having a probability of success (p).\n",
    "\n",
    "2. Number of Trials:\n",
    "\n",
    "Bernoulli Distribution: Only one trial is involved.\n",
    "\n",
    "Binomial Distribution: Multiple trials are involved, and the number of trials is denoted by \"n.\"\n",
    "\n",
    "3. Probability Parameter:\n",
    "\n",
    "Bernoulli Distribution: The Bernoulli distribution has a single parameter \"p,\" representing the probability of success in a single trial.\n",
    "\n",
    "Binomial Distribution: The binomial distribution has two parameters: \"n\" (the number of trials) and \"p\" (the probability of success in a single trial).\n"
   ]
  },
  {
   "cell_type": "markdown",
   "id": "e580c67f-e576-455b-ae07-2bd679c96867",
   "metadata": {},
   "source": [
    "### Q6. Consider a dataset with a mean of 50 and a standard deviation of 10. If we assume that the dataset is normally distributed, what is the probability that a randomly selected observation will be greater than 60? Use the appropriate formula and show your calculations.\n",
    "\n",
    "\n",
    "\n"
   ]
  },
  {
   "cell_type": "markdown",
   "id": "58ce375b-4af3-4fe8-8e24-4c1d9cdb1534",
   "metadata": {},
   "source": [
    "X is the value we want to find the probability for (in this case, X > 60).\n",
    "\n",
    "μ is the mean of the dataset (μ = 50).\n",
    "\n",
    "σ is the standard deviation of the dataset (σ = 10).\n",
    "\n",
    "f(x) = (1 / (σ * √(2 * π))) * e^(-(x - μ)^2 / (2 * σ^2))\n",
    "\n",
    "f(60)=(1/(10*√(2 * π)))*e^(-(60-50)^2)/(2*10*2)\n",
    "\n",
    "\n",
    "f(60)=.152034\n"
   ]
  },
  {
   "cell_type": "code",
   "execution_count": null,
   "id": "9d5bb780-4d22-4c77-bd9c-1a612a8ba04b",
   "metadata": {},
   "outputs": [],
   "source": []
  },
  {
   "cell_type": "markdown",
   "id": "b54d9420-4b51-44d5-a515-23d4553e9476",
   "metadata": {},
   "source": [
    "### Q7: Explain uniform Distribution with an example."
   ]
  },
  {
   "cell_type": "markdown",
   "id": "d598c7d2-e211-45e1-948d-11a2e4323a64",
   "metadata": {},
   "source": [
    "The uniform distribution is a simple probability distribution in statistics where all values in a given range have an equal probability of occurring. It is characterized by a constant probability density function (PDF) across the range of interest.\n",
    "\n",
    "The probability density function (PDF) of the uniform distribution is defined as:\n",
    "\n",
    "f(x) = 1 / (b - a) for a ≤ x ≤ b\n",
    "\n",
    "f(x) = 0 elsewhere\n",
    "\n",
    "where:\n",
    "\n",
    "f(x) is the value of the probability density function at a specific point \"x.\"\n",
    "\n",
    "a is the lower bound of the range.\n",
    "\n",
    "b is the upper bound of the range.\n",
    "\n",
    "The uniform distribution is often denoted as U(a, b), representing the random variable that takes on values uniformly between a and b (inclusive)."
   ]
  },
  {
   "cell_type": "markdown",
   "id": "e6024cf9-7cd5-49c0-95b4-0df6e03f4746",
   "metadata": {},
   "source": [
    "Example of Uniform Distribution:\n",
    "    \n",
    "A classic example of a uniform distribution is rolling a fair six-sided die. The random variable X represents the outcome of a single roll, and it can take on the values 1, 2, 3, 4, 5, or 6. Since each outcome has an equal chance of occurring, the probability of rolling any specific value is 1/6.\n",
    "\n",
    "Let's calculate the probability of rolling a value between 2 and 4 (inclusive) using the uniform distribution:\n",
    "\n",
    "a = 2 (lower bound)\n",
    "b = 4 (upper bound)\n",
    "\n",
    "The probability of rolling a value between 2 and 4 (inclusive) can be calculated using the PDF formula:\n",
    "\n",
    "f(x) = 1 / (b - a) = 1 / (4 - 2) = 1/2\n",
    "\n",
    "Therefore, the probability of rolling a value between 2 and 4 (inclusive) is 1/2 or 50%."
   ]
  },
  {
   "cell_type": "markdown",
   "id": "6e17afa9-85de-46d9-999b-5b91ad6b1ed3",
   "metadata": {},
   "source": [
    "### Q8: What is the z score? State the importance of the z score."
   ]
  },
  {
   "cell_type": "markdown",
   "id": "f924f7e0-099f-4216-a691-79c67db848dc",
   "metadata": {},
   "source": [
    "### z score:\n",
    "\n",
    "z-score, also known as the standard score or standardized value, is a statistical measure that quantifies how many standard deviations a data point is away from the mean of a distribution. \n",
    "\n",
    "It allows us to compare individual data points from different distributions and helps in understanding the relative position of a data point within its distribution.\n",
    "\n",
    "The formula for calculating the z-score for a data point \"X\" in a distribution with mean \"μ\" and standard deviation \"σ\" is given by:\n",
    "\n",
    "z = (X - μ) / σ\n",
    "\n",
    "where:\n",
    "\n",
    "z is the z-score of the data point.\n",
    "\n",
    "X is the individual data point whose z-score is being calculated.\n",
    "\n",
    "μ is the mean of the distribution.\n",
    "\n",
    "σ is the standard deviation of the distribution."
   ]
  },
  {
   "cell_type": "markdown",
   "id": "009852a6-002c-426b-8796-2c22b6d222a7",
   "metadata": {},
   "source": [
    "### Importance\n",
    "\n",
    "1. Standardization: The z-score standardizes the data by converting it to a common scale based on the mean and standard deviation of the distribution. This enables comparisons between data points from different distributions and facilitates the interpretation of their relative positions.\n",
    "\n",
    "2. Identifying Outliers: A z-score allows us to identify outliers in a dataset. Data points with z-scores significantly above or below zero indicate extreme values, far from the mean. These extreme values are considered outliers and may warrant further investigation.\n",
    "\n",
    "3. Hypothesis Testing: In hypothesis testing, the z-score is used to find critical values and determine the probability of observing a particular outcome under the null hypothesis. It is commonly used in tests involving sample means, such as the z-test."
   ]
  },
  {
   "cell_type": "markdown",
   "id": "dcd0d8c3-9bea-433f-8b71-98d3acf628ff",
   "metadata": {},
   "source": [
    "### Q9: What is Central Limit Theorem? State the significance of the Central Limit Theorem."
   ]
  },
  {
   "cell_type": "markdown",
   "id": "3e94b433-8d5d-4da7-b9c1-1845f82642fb",
   "metadata": {},
   "source": [
    "1. The Central Limit Theorem (CLT) is a fundamental concept in statistics that describes the behavior of the sample mean of a sufficiently large number of independent and identically distributed random variables, regardless of the original distribution of the individual variables\n",
    "\n",
    "2. The Central Limit Theorem states that, under certain conditions, the sample mean of a large number of random variables will follow a normal distribution, regardless of the shape of the original population distribution."
   ]
  },
  {
   "cell_type": "markdown",
   "id": "979a7bc0-5bf1-408a-80fe-0facae4e5db9",
   "metadata": {},
   "source": [
    "Significance of the Central Limit Theorem:\n",
    "\n",
    "Normal Approximation: The Central Limit Theorem allows us to approximate the distribution of the sample mean as a normal distribution, even if the original data may not follow a normal distribution. This is incredibly powerful because the normal distribution is well-understood, and many statistical methods and tests are based on the assumption of normality.\n",
    "\n",
    "Statistical Inference: The Central Limit Theorem is the foundation for many statistical inference techniques, such as hypothesis testing and confidence intervals. It enables us to make inferences about population parameters based on sample statistics.\n",
    "\n",
    "Real-World Application: The CLT is widely applicable in various fields, from quality control and market research to social sciences and medical research. Whenever we collect a sufficiently large sample from a population, the sample mean will approximately follow a normal distribution, allowing us to make meaningful inferences about the population.\n",
    "\n",
    "Averaging Behavior: The Central Limit Theorem explains why the sample mean tends to be a more stable and precise estimate of the population mean than any individual data point. By averaging multiple observations, the influence of random variations tends to cancel out, leading to a more reliable estimate."
   ]
  },
  {
   "cell_type": "markdown",
   "id": "965c0be1-bdbb-4807-aa03-3b0cb271dba1",
   "metadata": {},
   "source": [
    "### Q10: State the assumptions of the Central Limit Theorem."
   ]
  },
  {
   "cell_type": "markdown",
   "id": "aa320b98-631b-4967-a694-3749bee9452d",
   "metadata": {},
   "source": [
    "The Central Limit Theorem (CLT) is a powerful statistical concept, but its applicability relies on certain assumptions. For the CLT to hold, the following assumptions need to be met:\n",
    "\n",
    "Independence: The random variables in the sample must be independent of each other. In other words, the outcome of one observation should not influence the outcome of another observation.\n",
    "\n",
    "Identically Distributed: The random variables in the sample must be drawn from the same underlying population distribution. This means that each observation should follow the same probability distribution with the same mean and standard deviation.\n",
    "\n",
    "Sufficient Sample Size: The sample size should be sufficiently large. There is no strict rule for what constitutes a \"sufficiently large\" sample size, but a general guideline is that the sample size should be greater than 30. In practice, larger sample sizes generally lead to better approximations of the normal distribution.\n",
    "\n",
    "It is important to note that while these assumptions are essential for the CLT to hold theoretically, in practice, the CLT can often provide reasonably accurate approximations even when the assumptions are not perfectly met, especially with moderate to large sample sizes."
   ]
  }
 ],
 "metadata": {
  "kernelspec": {
   "display_name": "Python 3 (ipykernel)",
   "language": "python",
   "name": "python3"
  },
  "language_info": {
   "codemirror_mode": {
    "name": "ipython",
    "version": 3
   },
   "file_extension": ".py",
   "mimetype": "text/x-python",
   "name": "python",
   "nbconvert_exporter": "python",
   "pygments_lexer": "ipython3",
   "version": "3.10.8"
  }
 },
 "nbformat": 4,
 "nbformat_minor": 5
}
